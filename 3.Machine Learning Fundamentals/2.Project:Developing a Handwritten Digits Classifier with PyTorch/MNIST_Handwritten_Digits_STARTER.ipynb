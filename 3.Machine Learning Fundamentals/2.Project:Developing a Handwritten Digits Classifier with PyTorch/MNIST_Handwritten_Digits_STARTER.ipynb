{
  "cells": [
    {
      "cell_type": "markdown",
      "metadata": {
        "id": "GNUM3qx4b56M"
      },
      "source": [
        "# Introduction\n",
        "\n",
        "In this project, you will build a neural network of your own design to evaluate the MNIST dataset.\n",
        "\n",
        "Some of the benchmark results on MNIST include can be found [on Yann LeCun's page](https://webcache.googleusercontent.com/search?q=cache:stAVPik6onEJ:yann.lecun.com/exdb/mnist) and include:\n",
        "\n",
        "88% [Lecun et al., 1998](https://hal.science/hal-03926082/document)\n",
        "\n",
        "95.3% [Lecun et al., 1998](https://hal.science/hal-03926082v1/document)\n",
        "\n",
        "99.65% [Ciresan et al., 2011](http://people.idsia.ch/~juergen/ijcai2011.pdf)\n",
        "\n",
        "\n",
        "MNIST is a great dataset for sanity checking your models, since the accuracy levels achieved by large convolutional neural networks and small linear models are both quite high. This makes it important to be familiar with the data.\n",
        "\n",
        "## Installation"
      ]
    },
    {
      "cell_type": "code",
      "execution_count": 1,
      "metadata": {
        "id": "EIQOaBOFb56Q"
      },
      "outputs": [],
      "source": [
        "# Update the PATH to include the user installation directory.\n",
        "import os\n",
        "os.environ['PATH'] = f\"{os.environ['PATH']}:/root/.local/bin\"\n",
        "\n",
        "# Restart the Kernel before you move on to the next step."
      ]
    },
    {
      "cell_type": "markdown",
      "metadata": {
        "id": "YnDvSpv3b56S"
      },
      "source": [
        "#### Important: Restart the Kernel before you move on to the next step."
      ]
    },
    {
      "cell_type": "code",
      "execution_count": null,
      "metadata": {
        "collapsed": true,
        "id": "Wsb0Iwvxb56T"
      },
      "outputs": [],
      "source": [
        "# Install requirements\n",
        "!python -m pip install -r requirements.txt"
      ]
    },
    {
      "cell_type": "markdown",
      "metadata": {
        "id": "VCSHy8J7b56V"
      },
      "source": [
        "## Imports"
      ]
    },
    {
      "cell_type": "code",
      "execution_count": 1,
      "metadata": {
        "id": "vd3obj4mb56V"
      },
      "outputs": [],
      "source": [
        "## This cell contains the essential imports you will need – DO NOT CHANGE THE CONTENTS! ##\n",
        "import torch\n",
        "import torch.nn as nn\n",
        "import torch.nn.functional as F\n",
        "import torch.optim as optim\n",
        "import torchvision\n",
        "import torchvision.transforms as transforms\n",
        "import matplotlib.pyplot as plt\n",
        "import numpy as np\n",
        "from torch.utils.data import DataLoader"
      ]
    },
    {
      "cell_type": "code",
      "execution_count": 2,
      "metadata": {
        "colab": {
          "base_uri": "https://localhost:8080/"
        },
        "id": "jEG1152hb56l",
        "outputId": "77fc1cc5-572a-4c83-caf0-55cf4805a75e"
      },
      "outputs": [
        {
          "output_type": "execute_result",
          "data": {
            "text/plain": [
              "device(type='cuda')"
            ]
          },
          "metadata": {},
          "execution_count": 2
        }
      ],
      "source": [
        "device = torch.device('cuda' if torch.cuda.is_available() else 'cpu')\n",
        "device"
      ]
    },
    {
      "cell_type": "markdown",
      "metadata": {
        "id": "oYcGtmYHb56k"
      },
      "source": [
        "## Load the Dataset\n",
        "\n",
        "Specify your transforms as a list if you intend to .\n",
        "The transforms module is already loaded as `transforms`.\n",
        "\n",
        "MNIST is fortunately included in the torchvision module.\n",
        "Then, you can create your dataset using the `MNIST` object from `torchvision.datasets` ([the documentation is available here](https://pytorch.org/vision/stable/datasets.html#mnist)).\n",
        "Make sure to specify `download=True`!\n",
        "\n",
        "Once your dataset is created, you'll also need to define a `DataLoader` from the `torch.utils.data` module for both the train and the test set."
      ]
    },
    {
      "cell_type": "code",
      "execution_count": null,
      "metadata": {
        "id": "okFvwvJpb56l"
      },
      "outputs": [],
      "source": [
        "# Define transforms\n",
        "transforms = transforms.ToTensor()\n",
        "\n",
        "# Create training set and define training dataloader\n",
        "train_data = torchvision.datasets.MNIST(root=\"data\", train=True, download=True, transform=transforms)\n",
        "train_loader = DataLoader(train_data, batch_size=100, shuffle=True)\n",
        "\n",
        "# Create test set and define test dataloader\n",
        "test_data = torchvision.datasets.MNIST(root=\"data\", train=False, download=True, transform=transforms)\n",
        "test_loader = DataLoader(test_data, batch_size=100)"
      ]
    },
    {
      "cell_type": "markdown",
      "metadata": {
        "id": "xtVBFwAAb56o"
      },
      "source": [
        "## Justify your preprocessing\n",
        "\n",
        "In your own words, why did you choose the transforms you chose? If you didn't use any preprocessing steps, why not?\n",
        "\n",
        "The preprocessing steps chosen for the MNIST dataset are necessary to prepare the data for use with a deep learning model. Here's a breakdown of the reasons behind each step:\n",
        "\n",
        "1.Converting Images to Tensors:\n",
        "\n",
        "-Why: The MNIST dataset contains images in the form of numpy arrays. However, PyTorch models expect input data in the form of tensors. The ToTensor() transform is used to convert these numpy arrays into PyTorch tensors, which is a necessary step for model training.\n",
        "\n",
        "-Why not: If the model were designed to accept numpy arrays directly, then no conversion would be needed. However, most deep learning frameworks, including PyTorch, require tensors as input.\n",
        "\n",
        "\n",
        "2.Loading and Batching Data:\n",
        "\n",
        "-Why: The MNIST dataset is large, and processing it all at once can be memory-intensive. The DataLoader class is used to split the data into smaller batches, which can be processed more efficiently. This also allows for shuffling the data, which is important for training models that rely on randomness, such as stochastic gradient descent.\n",
        "\n",
        "-Why not: If the model were designed to process the entire dataset at once, then no batching would be needed. However, most deep learning models are designed to process batches of data, and the DataLoader class makes this process more efficient.\n",
        "\n",
        "\n",
        "Q.Why Not Use Additional Preprocessing Steps?\n",
        "\n",
        "While additional preprocessing steps, such as normalization or data augmentation, can be beneficial for some datasets, they are not necessary for the MNIST dataset. Here's why:\n",
        "\n",
        "-Normalization: The MNIST dataset is already normalized to have pixel values between 0 and 255. Normalization is typically used to scale the data to a common range, which can help with model convergence. However, since the MNIST dataset is already normalized, this step is not necessary.\n",
        "\n",
        "-Data Augmentation: Data augmentation is a technique used to artificially increase the size of a dataset by applying random transformations to the images. This can help the model generalize better to new, unseen data. However, the MNIST dataset is already a large dataset, and data augmentation may not provide significant benefits in this case.\n",
        "\n",
        "In summary, the chosen preprocessing steps are necessary to prepare the MNIST dataset for use with a deep learning model. The ToTensor() transform is used to convert the images to tensors, and the DataLoader class is used to load and batch the data. Additional preprocessing steps, such as normalization or data augmentation, are not necessary for this dataset."
      ]
    },
    {
      "cell_type": "markdown",
      "metadata": {
        "id": "gvGwT_mYb56p"
      },
      "source": [
        "## Explore the Dataset\n",
        "Using matplotlib, numpy, and torch, explore the dimensions of your data.\n",
        "\n",
        "You can view images using the `show5` function defined below – it takes a data loader as an argument.\n",
        "Remember that normalized images will look really weird to you! You may want to try changing your transforms to view images.\n",
        "Typically using no transforms other than `toTensor()` works well for viewing – but not as well for training your network.\n",
        "If `show5` doesn't work, go back and check your code for creating your data loaders and your training/test sets."
      ]
    },
    {
      "cell_type": "code",
      "source": [
        "## This cell contains a function for showing 5 images from a dataloader – DO NOT CHANGE THE CONTENTS! ##\n",
        "def show5(img_loader):\n",
        "    dataiter = iter(img_loader)\n",
        "\n",
        "    batch = next(dataiter)\n",
        "    labels = batch[1][0:5]\n",
        "    images = batch[0][0:5]\n",
        "    for i in range(5):\n",
        "        print(int(labels[i].detach()))\n",
        "\n",
        "        image = images[i].numpy()\n",
        "        plt.imshow(image.T.squeeze().T)\n",
        "        plt.show()"
      ],
      "metadata": {
        "id": "MGDKVgj8fYT7"
      },
      "execution_count": 5,
      "outputs": []
    },
    {
      "cell_type": "code",
      "execution_count": 7,
      "metadata": {
        "colab": {
          "base_uri": "https://localhost:8080/"
        },
        "id": "4CkYThXdb56p",
        "outputId": "96cea4e8-8003-4e2e-c471-663b692a1dbe"
      },
      "outputs": [
        {
          "output_type": "stream",
          "name": "stdout",
          "text": [
            "Number of MNIST train data examples: 60000\n",
            "Number of MNIST test data examples: 10000\n"
          ]
        }
      ],
      "source": [
        "# Explore data\n",
        "## YOUR CODE HERE ##\n",
        "print(\"Number of MNIST train data examples: {}\".format(len(train_data)))\n",
        "print(\"Number of MNIST test data examples: {}\".format(len(test_data)))"
      ]
    },
    {
      "cell_type": "code",
      "execution_count": 8,
      "metadata": {
        "colab": {
          "base_uri": "https://localhost:8080/"
        },
        "id": "zmT8pI_Kb56q",
        "outputId": "8ec01831-fc95-4d29-af7b-507db10fc0aa"
      },
      "outputs": [
        {
          "output_type": "stream",
          "name": "stdout",
          "text": [
            "number of images: torch.Size([100, 1, 28, 28])\n",
            "number of labels: torch.Size([100])\n"
          ]
        }
      ],
      "source": [
        "## YOUR CODE HERE ##\n",
        "dataiter = iter(train_loader)\n",
        "images, labels = next(dataiter)\n",
        "\n",
        "print(\"number of images: {}\".format(images.shape))\n",
        "print(\"number of labels: {}\".format(labels.shape))"
      ]
    },
    {
      "cell_type": "markdown",
      "metadata": {
        "id": "UQJcMR5Yb56q"
      },
      "source": [
        "## Build your Neural Network\n",
        "Using the layers in `torch.nn` (which has been imported as `nn`) and the `torch.nn.functional` module (imported as `F`), construct a neural network based on the parameters of the dataset.\n",
        "Use any architecture you like.\n",
        "\n",
        "*Note*: If you did not flatten your tensors in your transforms or as part of your preprocessing and you are using only `Linear` layers, make sure to use the `Flatten` layer in your network!"
      ]
    },
    {
      "cell_type": "markdown",
      "metadata": {
        "id": "Rd9LUc3sb56q"
      },
      "source": [
        "Specify a loss function and an optimizer, and instantiate the model.\n",
        "\n",
        "If you use a less common loss function, please note why you chose that loss function in a comment."
      ]
    },
    {
      "cell_type": "code",
      "execution_count": 9,
      "metadata": {
        "id": "uMCYWB-9b56q"
      },
      "outputs": [],
      "source": [
        "## YOUR CODE HERE ##\n",
        "class Net1(nn.Module):\n",
        "    def __init__(self):\n",
        "        super(Net1, self).__init__()\n",
        "        self.activation = F.relu\n",
        "        self.layer1 = nn.Linear(28 * 28, 128)\n",
        "        self.layer2 = nn.Linear(128, 64)\n",
        "        self.layer3 = nn.Linear(64, 10)\n",
        "\n",
        "    def forward(self, x):\n",
        "        x = torch.flatten(x, 1)\n",
        "        x = self.activation(self.layer1(x))\n",
        "        x = self.activation(self.layer2(x))\n",
        "        x = self.layer3(x)\n",
        "        return x\n",
        "\n",
        "net1 = Net1()"
      ]
    },
    {
      "cell_type": "markdown",
      "metadata": {
        "id": "WbqqjG6jb56r"
      },
      "source": [
        "## Running your Neural Network\n",
        "Use whatever method you like to train your neural network, and ensure you record the average loss at each epoch.\n",
        "Don't forget to use `torch.device()` and the `.to()` method for both your model and your data if you are using GPU!\n",
        "\n",
        "If you want to print your loss **during** each epoch, you can use the `enumerate` function and print the loss after a set number of batches. 250 batches works well for most people!"
      ]
    },
    {
      "cell_type": "code",
      "execution_count": 10,
      "metadata": {
        "id": "o888xSVZb56r"
      },
      "outputs": [],
      "source": [
        "## YOUR CODE HERE ##\n",
        "# Choose an optimizer\n",
        "optimizer = optim.Adam(net1.parameters(), lr=0.001)\n",
        "\n",
        "# Choose a loss function\n",
        "criterion = nn.CrossEntropyLoss()"
      ]
    },
    {
      "cell_type": "code",
      "source": [
        "num_epochs = 10\n",
        "\n",
        "# Establish a list for our history\n",
        "train_loss_history = list()\n",
        "val_loss_history = list()\n",
        "\n",
        "for epoch in range(num_epochs):\n",
        "    net1.train()\n",
        "    train_loss = 0.0\n",
        "    train_correct = 0\n",
        "    for i, data in enumerate(train_loader):\n",
        "        # data is a list of [inputs, labels]\n",
        "        inputs, labels = data\n",
        "\n",
        "        # Zero out the gradients of the optimizer\n",
        "        optimizer.zero_grad()\n",
        "\n",
        "        # Get the outputs of your model and compute your loss\n",
        "        outputs = net1(inputs)\n",
        "        loss = criterion(outputs, labels)\n",
        "\n",
        "        # Compute the loss gradient using the backward method and have the optimizer take a step\n",
        "        loss.backward()\n",
        "        optimizer.step()\n",
        "\n",
        "        # Compute the accuracy and print the accuracy and loss\n",
        "        _, preds = torch.max(outputs.data, 1)\n",
        "        train_correct += (preds == labels).sum().item()\n",
        "        train_loss += loss.item()\n",
        "    print(f'Epoch {epoch + 1} training accuracy: {train_correct/len(train_loader):.2f}% training loss: {train_loss/len(train_loader):.5f}')\n",
        "    train_loss_history.append(train_loss/len(train_loader))\n",
        "\n",
        "    # The validation step is done for you.\n",
        "    val_loss = 0.0\n",
        "    val_correct = 0\n",
        "    net1.eval()\n",
        "    for inputs, labels in test_loader:\n",
        "\n",
        "        outputs = net1(inputs)\n",
        "        loss = criterion(outputs, labels)\n",
        "\n",
        "        _, preds = torch.max(outputs.data, 1)\n",
        "        val_correct += (preds == labels).sum().item()\n",
        "        val_loss += loss.item()\n",
        "    print(f'Epoch {epoch + 1} validation accuracy: {val_correct/len(test_loader):.2f}% validation loss: {val_loss/len(test_loader):.5f}')\n",
        "    val_loss_history.append(val_loss/len(test_loader))"
      ],
      "metadata": {
        "colab": {
          "base_uri": "https://localhost:8080/"
        },
        "id": "6wf-bBhifzzJ",
        "outputId": "12786f90-c3e7-494b-ff5f-283d691bdcd1"
      },
      "execution_count": 11,
      "outputs": [
        {
          "output_type": "stream",
          "name": "stdout",
          "text": [
            "Epoch 1 training accuracy: 89.76% training loss: 0.38249\n",
            "Epoch 1 validation accuracy: 94.16% validation loss: 0.20018\n",
            "Epoch 2 training accuracy: 95.35% training loss: 0.15827\n",
            "Epoch 2 validation accuracy: 95.93% validation loss: 0.13550\n",
            "Epoch 3 training accuracy: 96.73% training loss: 0.11054\n",
            "Epoch 3 validation accuracy: 96.73% validation loss: 0.10826\n",
            "Epoch 4 training accuracy: 97.38% training loss: 0.08355\n",
            "Epoch 4 validation accuracy: 97.11% validation loss: 0.09439\n",
            "Epoch 5 training accuracy: 97.96% training loss: 0.06620\n",
            "Epoch 5 validation accuracy: 97.51% validation loss: 0.08344\n",
            "Epoch 6 training accuracy: 98.39% training loss: 0.05266\n",
            "Epoch 6 validation accuracy: 97.43% validation loss: 0.08506\n",
            "Epoch 7 training accuracy: 98.67% training loss: 0.04329\n",
            "Epoch 7 validation accuracy: 97.54% validation loss: 0.07897\n",
            "Epoch 8 training accuracy: 98.87% training loss: 0.03653\n",
            "Epoch 8 validation accuracy: 97.58% validation loss: 0.08011\n",
            "Epoch 9 training accuracy: 99.12% training loss: 0.02889\n",
            "Epoch 9 validation accuracy: 97.78% validation loss: 0.07719\n",
            "Epoch 10 training accuracy: 99.26% training loss: 0.02386\n",
            "Epoch 10 validation accuracy: 97.84% validation loss: 0.07989\n"
          ]
        }
      ]
    },
    {
      "cell_type": "markdown",
      "metadata": {
        "id": "MWQP9Zzib56r"
      },
      "source": [
        "Plot the training loss (and validation loss/accuracy, if recorded)."
      ]
    },
    {
      "cell_type": "code",
      "execution_count": 12,
      "metadata": {
        "colab": {
          "base_uri": "https://localhost:8080/",
          "height": 435
        },
        "id": "6pY-hzonb56r",
        "outputId": "a7ca5acb-ad8d-48dd-a7c7-12dad86d979b"
      },
      "outputs": [
        {
          "output_type": "display_data",
          "data": {
            "text/plain": [
              "<Figure size 640x480 with 1 Axes>"
            ],
            "image/png": "[encoded data removed]"
          },
          "metadata": {}
        }
      ],
      "source": [
        "## YOUR CODE HERE ##\n",
        "# Plot the training and validation loss history\n",
        "plt.plot(train_loss_history, label=\"Training Loss\")\n",
        "plt.plot(val_loss_history, label=\"Validation Loss\")\n",
        "plt.legend()\n",
        "plt.show()"
      ]
    },
    {
      "cell_type": "markdown",
      "metadata": {
        "id": "Yq4cSIrEb56r"
      },
      "source": [
        "## Testing your model\n",
        "Using the previously created `DataLoader` for the test set, compute the percentage of correct predictions using the highest probability prediction.\n",
        "\n",
        "If your accuracy is over 90%, great work, but see if you can push a bit further!\n",
        "If your accuracy is under 90%, you'll need to make improvements.\n",
        "Go back and check your model architecture, loss function, and optimizer to make sure they're appropriate for an image classification task."
      ]
    },
    {
      "cell_type": "code",
      "execution_count": 13,
      "metadata": {
        "id": "c2DC79BYb56r"
      },
      "outputs": [],
      "source": [
        "## YOUR CODE HERE ##\n",
        "def test1():\n",
        "    net1.eval()\n",
        "    test_loss = 0\n",
        "    test_correct = 0\n",
        "    for i, data in enumerate(test_loader):\n",
        "        inputs, labels  = data\n",
        "\n",
        "        optimizer.zero_grad()\n",
        "\n",
        "        outputs = net1(inputs)\n",
        "        loss = criterion(outputs, labels)\n",
        "\n",
        "        loss.backward()\n",
        "        optimizer.step()\n",
        "\n",
        "        _, preds = torch.max(outputs.data, 1)\n",
        "        test_correct += (preds == labels).sum().item()\n",
        "        test_loss += loss.item()\n",
        "    print(f'Epoch {epoch + 1} test accuracy: {test_correct/len(test_loader):.2f}% test loss: {test_loss/len(test_loader):.5f}')"
      ]
    },
    {
      "cell_type": "code",
      "source": [
        "for epoch in range(num_epochs):\n",
        "    test1()"
      ],
      "metadata": {
        "colab": {
          "base_uri": "https://localhost:8080/"
        },
        "id": "1nNWssK6ghFD",
        "outputId": "660a429d-8e0f-40cf-e11f-c7dcc07bf6b9"
      },
      "execution_count": 14,
      "outputs": [
        {
          "output_type": "stream",
          "name": "stdout",
          "text": [
            "Epoch 1 test accuracy: 96.84% test loss: 0.10123\n",
            "Epoch 2 test accuracy: 98.50% test loss: 0.04624\n",
            "Epoch 3 test accuracy: 99.52% test loss: 0.02000\n",
            "Epoch 4 test accuracy: 99.87% test loss: 0.01025\n",
            "Epoch 5 test accuracy: 99.96% test loss: 0.00605\n",
            "Epoch 6 test accuracy: 99.99% test loss: 0.00423\n",
            "Epoch 7 test accuracy: 99.99% test loss: 0.00318\n",
            "Epoch 8 test accuracy: 100.00% test loss: 0.00252\n",
            "Epoch 9 test accuracy: 100.00% test loss: 0.00206\n",
            "Epoch 10 test accuracy: 100.00% test loss: 0.00174\n"
          ]
        }
      ]
    },
    {
      "cell_type": "markdown",
      "metadata": {
        "id": "47rJC45Sb56s"
      },
      "source": [
        "## Improving your model\n",
        "\n",
        "Once your model is done training, try tweaking your hyperparameters and training again below to improve your accuracy on the test set!"
      ]
    },
    {
      "cell_type": "code",
      "execution_count": 15,
      "metadata": {
        "id": "7NmfkjWbb56s"
      },
      "outputs": [],
      "source": [
        "## YOUR CODE HERE ##\n",
        "# Add dropout = 0.2\n",
        "\n",
        "class Net2(nn.Module):\n",
        "    def __init__(self):\n",
        "        super(Net2, self).__init__()\n",
        "        self.activation = F.relu\n",
        "        self.layer1 = nn.Linear(28 * 28, 128)\n",
        "        self.layer2 = nn.Linear(128, 64)\n",
        "        self.layer3 = nn.Linear(64, 10)\n",
        "\n",
        "        self.dropout=nn.Dropout(0.2)\n",
        "\n",
        "    def forward(self, x):\n",
        "        x = torch.flatten(x, 1)\n",
        "        x = self.activation(self.layer1(x))\n",
        "        x = self.activation(self.layer2(x))\n",
        "        x = self.layer3(x)\n",
        "        return x\n",
        "\n",
        "net2 = Net2()"
      ]
    },
    {
      "cell_type": "code",
      "source": [
        "# Choose an optimizer\n",
        "optimizer = optim.Adam(net2.parameters(), lr=0.001)\n",
        "\n",
        "# Choose a loss function\n",
        "criterion = nn.CrossEntropyLoss()"
      ],
      "metadata": {
        "id": "_INKV864gx4E"
      },
      "execution_count": 16,
      "outputs": []
    },
    {
      "cell_type": "code",
      "source": [
        "num_epochs = 10\n",
        "\n",
        "# Establish a list for our history\n",
        "train_loss_history = list()\n",
        "val_loss_history = list()\n",
        "\n",
        "for epoch in range(num_epochs):\n",
        "    net2.train()\n",
        "    train_loss = 0.0\n",
        "    train_correct = 0\n",
        "    for i, data in enumerate(train_loader):\n",
        "        # data is a list of [inputs, labels]\n",
        "        inputs, labels = data\n",
        "\n",
        "        # Zero out the gradients of the optimizer\n",
        "        optimizer.zero_grad()\n",
        "\n",
        "        # Get the outputs of your model and compute your loss\n",
        "        outputs = net2(inputs)\n",
        "        loss = criterion(outputs, labels)\n",
        "\n",
        "        # Compute the loss gradient using the backward method and have the optimizer take a step\n",
        "        loss.backward()\n",
        "        optimizer.step()\n",
        "\n",
        "        # Compute the accuracy and print the accuracy and loss\n",
        "        _, preds = torch.max(outputs.data, 1)\n",
        "        train_correct += (preds == labels).sum().item()\n",
        "        train_loss += loss.item()\n",
        "    print(f'Epoch {epoch + 1} training accuracy: {train_correct/len(train_loader):.2f}% training loss: {train_loss/len(train_loader):.5f}')\n",
        "    train_loss_history.append(train_loss/len(train_loader))\n",
        "\n",
        "    # The validation step is done for you.\n",
        "    val_loss = 0.0\n",
        "    val_correct = 0\n",
        "    net1.eval()\n",
        "    for inputs, labels in test_loader:\n",
        "\n",
        "        outputs = net1(inputs)\n",
        "        loss = criterion(outputs, labels)\n",
        "\n",
        "        _, preds = torch.max(outputs.data, 1)\n",
        "        val_correct += (preds == labels).sum().item()\n",
        "        val_loss += loss.item()\n",
        "    print(f'Epoch {epoch + 1} validation accuracy: {val_correct/len(test_loader):.2f}% validation loss: {val_loss/len(test_loader):.5f}')\n",
        "    val_loss_history.append(val_loss/len(test_loader))"
      ],
      "metadata": {
        "colab": {
          "base_uri": "https://localhost:8080/"
        },
        "id": "EpFQvgdqg4Dc",
        "outputId": "e16e735e-50ac-4148-f390-45ee03ad18cc"
      },
      "execution_count": 17,
      "outputs": [
        {
          "output_type": "stream",
          "name": "stdout",
          "text": [
            "Epoch 1 training accuracy: 89.79% training loss: 0.37583\n",
            "Epoch 1 validation accuracy: 100.00% validation loss: 0.00169\n",
            "Epoch 2 training accuracy: 95.53% training loss: 0.15363\n",
            "Epoch 2 validation accuracy: 100.00% validation loss: 0.00169\n",
            "Epoch 3 training accuracy: 96.81% training loss: 0.10946\n",
            "Epoch 3 validation accuracy: 100.00% validation loss: 0.00169\n",
            "Epoch 4 training accuracy: 97.44% training loss: 0.08389\n",
            "Epoch 4 validation accuracy: 100.00% validation loss: 0.00169\n",
            "Epoch 5 training accuracy: 97.94% training loss: 0.06620\n",
            "Epoch 5 validation accuracy: 100.00% validation loss: 0.00169\n",
            "Epoch 6 training accuracy: 98.30% training loss: 0.05401\n",
            "Epoch 6 validation accuracy: 100.00% validation loss: 0.00169\n",
            "Epoch 7 training accuracy: 98.70% training loss: 0.04225\n",
            "Epoch 7 validation accuracy: 100.00% validation loss: 0.00169\n",
            "Epoch 8 training accuracy: 98.87% training loss: 0.03521\n",
            "Epoch 8 validation accuracy: 100.00% validation loss: 0.00169\n",
            "Epoch 9 training accuracy: 99.09% training loss: 0.02912\n",
            "Epoch 9 validation accuracy: 100.00% validation loss: 0.00169\n",
            "Epoch 10 training accuracy: 99.23% training loss: 0.02404\n",
            "Epoch 10 validation accuracy: 100.00% validation loss: 0.00169\n"
          ]
        }
      ]
    },
    {
      "cell_type": "code",
      "source": [
        "# Plot the training and validation loss history\n",
        "plt.plot(train_loss_history, label=\"Training Loss\")\n",
        "plt.plot(val_loss_history, label=\"Validation Loss\")\n",
        "plt.legend()\n",
        "plt.show()"
      ],
      "metadata": {
        "colab": {
          "base_uri": "https://localhost:8080/",
          "height": 430
        },
        "id": "o4ijBg9bhCUw",
        "outputId": "1ff3fee2-e151-44a1-e25b-a84ca56a5756"
      },
      "execution_count": 18,
      "outputs": [
        {
          "output_type": "display_data",
          "data": {
            "text/plain": [
              "<Figure size 640x480 with 1 Axes>"
            ],
            "image/png": "[encoded data removed]"
          },
          "metadata": {}
        }
      ]
    },
    {
      "cell_type": "code",
      "source": [
        "def test2():\n",
        "    net2.eval()\n",
        "    test_loss = 0\n",
        "    test_correct = 0\n",
        "    for i, data in enumerate(test_loader):\n",
        "        inputs, labels  = data\n",
        "\n",
        "        optimizer.zero_grad()\n",
        "\n",
        "        outputs = net1(inputs)\n",
        "        loss = criterion(outputs, labels)\n",
        "\n",
        "        loss.backward()\n",
        "        optimizer.step()\n",
        "\n",
        "        _, preds = torch.max(outputs.data, 1)\n",
        "        test_correct += (preds == labels).sum().item()\n",
        "        test_loss += loss.item()\n",
        "    print(f'Epoch {epoch + 1} test accuracy: {test_correct/len(test_loader):.2f}% test loss: {test_loss/len(test_loader):.5f}')"
      ],
      "metadata": {
        "id": "7046-77uhf7k"
      },
      "execution_count": 19,
      "outputs": []
    },
    {
      "cell_type": "code",
      "source": [
        "for epoch in range(num_epochs):\n",
        "    test2()"
      ],
      "metadata": {
        "colab": {
          "base_uri": "https://localhost:8080/"
        },
        "id": "_MW4VrbriQYD",
        "outputId": "dd83b193-1b16-4ac8-be75-a3095b054cb5"
      },
      "execution_count": 20,
      "outputs": [
        {
          "output_type": "stream",
          "name": "stdout",
          "text": [
            "Epoch 1 test accuracy: 100.00% test loss: 0.00169\n",
            "Epoch 2 test accuracy: 100.00% test loss: 0.00169\n",
            "Epoch 3 test accuracy: 100.00% test loss: 0.00169\n",
            "Epoch 4 test accuracy: 100.00% test loss: 0.00169\n",
            "Epoch 5 test accuracy: 100.00% test loss: 0.00169\n",
            "Epoch 6 test accuracy: 100.00% test loss: 0.00169\n",
            "Epoch 7 test accuracy: 100.00% test loss: 0.00169\n",
            "Epoch 8 test accuracy: 100.00% test loss: 0.00169\n",
            "Epoch 9 test accuracy: 100.00% test loss: 0.00169\n",
            "Epoch 10 test accuracy: 100.00% test loss: 0.00169\n"
          ]
        }
      ]
    },
    {
      "cell_type": "markdown",
      "metadata": {
        "id": "H4TIA1Tob56s"
      },
      "source": [
        "## Saving your model\n",
        "Using `torch.save`, save your model for future loading."
      ]
    },
    {
      "cell_type": "code",
      "execution_count": 21,
      "metadata": {
        "id": "CJKKWGv3b56s"
      },
      "outputs": [],
      "source": [
        "## YOUR CODE HERE ##\n",
        "torch.save(Net1, \"Net1.pth\")\n",
        "torch.save(Net2, \"Net2.pth\")"
      ]
    }
  ],
  "metadata": {
    "kernelspec": {
      "display_name": "Python 3",
      "name": "python3"
    },
    "language_info": {
      "codemirror_mode": {
        "name": "ipython",
        "version": 3
      },
      "file_extension": ".py",
      "mimetype": "text/x-python",
      "name": "python",
      "nbconvert_exporter": "python",
      "pygments_lexer": "ipython3",
      "version": "3.7.6"
    },
    "colab": {
      "provenance": [],
      "gpuType": "T4"
    },
    "accelerator": "GPU"
  },
  "nbformat": 4,
  "nbformat_minor": 0
}